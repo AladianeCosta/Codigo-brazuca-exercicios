{
  "nbformat": 4,
  "nbformat_minor": 0,
  "metadata": {
    "colab": {
      "provenance": [],
      "authorship_tag": "ABX9TyNe0Su2iF6TS00f+tysjl4n",
      "include_colab_link": true
    },
    "kernelspec": {
      "name": "python3",
      "display_name": "Python 3"
    },
    "language_info": {
      "name": "python"
    }
  },
  "cells": [
    {
      "cell_type": "markdown",
      "metadata": {
        "id": "view-in-github",
        "colab_type": "text"
      },
      "source": [
        "<a href=\"https://colab.research.google.com/github/AladianeCosta/Codigo-brazuca-exercicios/blob/main/Atividade_3_Curso_Polkadot.ipynb\" target=\"_parent\"><img src=\"https://colab.research.google.com/assets/colab-badge.svg\" alt=\"Open In Colab\"/></a>"
      ]
    },
    {
      "cell_type": "code",
      "execution_count": 1,
      "metadata": {
        "colab": {
          "base_uri": "https://localhost:8080/"
        },
        "id": "ikDeiHsHYFvl",
        "outputId": "702afa3f-4859-4f2d-c002-805064398880"
      },
      "outputs": [
        {
          "output_type": "stream",
          "name": "stdout",
          "text": [
            "Atividade 3- Curso Polkadot\n",
            "Vamos efetuar algumas operações\n",
            "digite o primeiro numero:10\n",
            "digite o segundo numero:15\n",
            "soma de 10.0  + 15.0 =25.0\n",
            "subtração de 10.0 - 15.0 =-5.0\n",
            "multiplicação de 10.0 * 15.0 =150.0\n",
            "divisão de 10.0 / 15.0 =0.6666666666666666\n"
          ]
        }
      ],
      "source": [
        "#Escreva um programa que peça dois números ao usuário e exiba a soma, subtração,multiplicação  e divisão deles.\n",
        "print(\"Atividade 3- Curso Polkadot\")\n",
        "print(\"Vamos efetuar algumas operações\")\n",
        "num1=float(input(\"digite o primeiro numero:\"))\n",
        "num2=float(input(\"digite o segundo numero:\"))\n",
        "soma=num1+num2\n",
        "subtracao=num1-num2\n",
        "multiplicacao=num1*num2\n",
        "divisao=num1/num2\n",
        "print(f\"soma de {num1}  + {num2} ={soma}\")\n",
        "print(f\"subtração de {num1} - {num2} ={subtracao}\")\n",
        "print(f\"multiplicação de {num1} * {num2} ={multiplicacao}\")\n",
        "print(f\"divisão de {num1} / {num2} ={divisao}\")"
      ]
    }
  ]
}