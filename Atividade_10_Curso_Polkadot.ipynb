{
  "nbformat": 4,
  "nbformat_minor": 0,
  "metadata": {
    "colab": {
      "provenance": [],
      "authorship_tag": "ABX9TyN9/8oTkk/oXJHmxMlzx2L8",
      "include_colab_link": true
    },
    "kernelspec": {
      "name": "python3",
      "display_name": "Python 3"
    },
    "language_info": {
      "name": "python"
    }
  },
  "cells": [
    {
      "cell_type": "markdown",
      "metadata": {
        "id": "view-in-github",
        "colab_type": "text"
      },
      "source": [
        "<a href=\"https://colab.research.google.com/github/AladianeCosta/Codigo-brazuca-exercicios/blob/main/Atividade_10_Curso_Polkadot.ipynb\" target=\"_parent\"><img src=\"https://colab.research.google.com/assets/colab-badge.svg\" alt=\"Open In Colab\"/></a>"
      ]
    },
    {
      "cell_type": "code",
      "execution_count": 1,
      "metadata": {
        "colab": {
          "base_uri": "https://localhost:8080/"
        },
        "id": "zvKtG5vhcgQC",
        "outputId": "86ccc253-74e2-4ad8-97fd-6bbc24686f49"
      },
      "outputs": [
        {
          "output_type": "stream",
          "name": "stdout",
          "text": [
            "Atividade 10- Curso Polkadot\n",
            "Vamos encontrar os numeros primos\n",
            "Digite o número inicial: 10\n",
            "Digite o número final: 15\n",
            "Números primos no intervalo de 10 a 15: [11, 13]\n"
          ]
        }
      ],
      "source": [
        "#Crie um programa que encontre e imprima todos os números primos em um intervalo definido pelo usuário.\n",
        "print(\"Atividade 10- Curso Polkadot\")\n",
        "print(\"Vamos encontrar os numeros primos\")\n",
        "def eh_primo(numero):\n",
        "    if numero < 2:\n",
        "        return False\n",
        "    for i in range(2, int(numero**0.5) + 1):\n",
        "        if numero % i == 0:\n",
        "            return False\n",
        "    return True\n",
        "\n",
        "def encontrar_primos(inicio, fim):\n",
        "    primos = []\n",
        "    for numero in range(inicio, fim + 1):\n",
        "        if eh_primo(numero):\n",
        "            primos.append(numero)\n",
        "    return primos\n",
        "\n",
        "\n",
        "inicio = int(input(\"Digite o número inicial: \"))\n",
        "fim = int(input(\"Digite o número final: \"))\n",
        "primos = encontrar_primos(inicio, fim)\n",
        "print(f\"Números primos no intervalo de {inicio} a {fim}: {primos}\")"
      ]
    }
  ]
}