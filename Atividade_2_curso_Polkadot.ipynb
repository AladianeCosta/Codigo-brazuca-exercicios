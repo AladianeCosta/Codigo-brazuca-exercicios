{
  "nbformat": 4,
  "nbformat_minor": 0,
  "metadata": {
    "colab": {
      "provenance": [],
      "authorship_tag": "ABX9TyN0aRFB6coKtHz628MHntc1",
      "include_colab_link": true
    },
    "kernelspec": {
      "name": "python3",
      "display_name": "Python 3"
    },
    "language_info": {
      "name": "python"
    }
  },
  "cells": [
    {
      "cell_type": "markdown",
      "metadata": {
        "id": "view-in-github",
        "colab_type": "text"
      },
      "source": [
        "<a href=\"https://colab.research.google.com/github/AladianeCosta/Codigo-brazuca-exercicios/blob/main/Atividade_2_curso_Polkadot.ipynb\" target=\"_parent\"><img src=\"https://colab.research.google.com/assets/colab-badge.svg\" alt=\"Open In Colab\"/></a>"
      ]
    },
    {
      "cell_type": "code",
      "execution_count": 1,
      "metadata": {
        "colab": {
          "base_uri": "https://localhost:8080/"
        },
        "id": "CanCHBj4WjdN",
        "outputId": "2e3914a7-8bbd-4a34-8199-aea8e9149120"
      },
      "outputs": [
        {
          "output_type": "stream",
          "name": "stdout",
          "text": [
            "Atividade 2- Curso Polkadot\n",
            "Detalhes do filme favorito\n",
            "Qual seu filme favorito?Crepusculo\n",
            "Ano de lançamento ?2010\n",
            "O seu filme favorito é Crepusculo ele foi lançado em 2010\n"
          ]
        }
      ],
      "source": [
        "#Crie um programa que pergunte ao usuário seu filme favorito e o ano em que foi lançado.\n",
        "print(\"Atividade 2- Curso Polkadot\")\n",
        "print(\"Detalhes do filme favorito\")\n",
        "nome=input(\"Qual seu filme favorito?\")\n",
        "ano=input(\"Ano de lançamento ?\")\n",
        "print(\"O seu filme favorito é \" +nome+ \" ele foi lançado em \" +ano)"
      ]
    }
  ]
}