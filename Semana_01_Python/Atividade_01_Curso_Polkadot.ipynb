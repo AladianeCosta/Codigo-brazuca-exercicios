{
  "nbformat": 4,
  "nbformat_minor": 0,
  "metadata": {
    "colab": {
      "provenance": [],
      "authorship_tag": "ABX9TyP/G7p+Kp3tycItitt1povd",
      "include_colab_link": true
    },
    "kernelspec": {
      "name": "python3",
      "display_name": "Python 3"
    },
    "language_info": {
      "name": "python"
    }
  },
  "cells": [
    {
      "cell_type": "markdown",
      "metadata": {
        "id": "view-in-github",
        "colab_type": "text"
      },
      "source": [
        "<a href=\"https://colab.research.google.com/github/AladianeCosta/Codigo-brazuca-exercicios/blob/main/Atividade_1_Curso_Polkadot.ipynb\" target=\"_parent\"><img src=\"https://colab.research.google.com/assets/colab-badge.svg\" alt=\"Open In Colab\"/></a>"
      ]
    },
    {
      "cell_type": "code",
      "execution_count": 1,
      "metadata": {
        "colab": {
          "base_uri": "https://localhost:8080/"
        },
        "id": "9nHJ8TVqV_xJ",
        "outputId": "c2e6b686-d63e-42c6-fdba-ddf7df4fa9e4"
      },
      "outputs": [
        {
          "output_type": "stream",
          "name": "stdout",
          "text": [
            "Atividade 1- Curso Polkadot\n",
            "Meu nome e {Aladiane} e eu moro em {Piumhi}.\n"
          ]
        }
      ],
      "source": [
        "#Escreva um programa que imprima seu nome e sua cidade natal.\n",
        "print(\"Atividade 1- Curso Polkadot\")\n",
        "print(\"Meu nome e {Aladiane} e eu moro em {Piumhi}.\")\n"
      ]
    }
  ]
}
