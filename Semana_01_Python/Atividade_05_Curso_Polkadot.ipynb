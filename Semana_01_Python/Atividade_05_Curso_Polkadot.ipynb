{
  "nbformat": 4,
  "nbformat_minor": 0,
  "metadata": {
    "colab": {
      "provenance": [],
      "authorship_tag": "ABX9TyO9lVGEv79eg/+TKymJ2YxU",
      "include_colab_link": true
    },
    "kernelspec": {
      "name": "python3",
      "display_name": "Python 3"
    },
    "language_info": {
      "name": "python"
    }
  },
  "cells": [
    {
      "cell_type": "markdown",
      "metadata": {
        "id": "view-in-github",
        "colab_type": "text"
      },
      "source": [
        "<a href=\"https://colab.research.google.com/github/AladianeCosta/Codigo-brazuca-exercicios/blob/main/Atividade_5_Curso_Polkadot.ipynb\" target=\"_parent\"><img src=\"https://colab.research.google.com/assets/colab-badge.svg\" alt=\"Open In Colab\"/></a>"
      ]
    },
    {
      "cell_type": "code",
      "execution_count": 1,
      "metadata": {
        "colab": {
          "base_uri": "https://localhost:8080/"
        },
        "id": "uoroSGmbZw5K",
        "outputId": "e024032d-1ba8-4b1d-80dd-78dfd0b912b1"
      },
      "outputs": [
        {
          "output_type": "stream",
          "name": "stdout",
          "text": [
            "Atividade 5- Curso Polkadot\n",
            "Numeros pares\n",
            "2\n",
            "4\n",
            "6\n",
            "8\n",
            "10\n"
          ]
        }
      ],
      "source": [
        "#Escreva um programa que conte de 1 a 10 e imprima apenas os números pares.\n",
        "print(\"Atividade 5- Curso Polkadot\")\n",
        "print(\"Numeros pares\")\n",
        "for numero in range (1, 11):\n",
        "  if numero % 2 == 0:\n",
        "       print(numero)"
      ]
    }
  ]
}
