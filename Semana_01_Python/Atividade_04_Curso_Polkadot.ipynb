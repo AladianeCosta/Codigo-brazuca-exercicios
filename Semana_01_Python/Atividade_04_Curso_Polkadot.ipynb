{
  "nbformat": 4,
  "nbformat_minor": 0,
  "metadata": {
    "colab": {
      "provenance": [],
      "authorship_tag": "ABX9TyMbcBF4OrBR23V98a/08zyf",
      "include_colab_link": true
    },
    "kernelspec": {
      "name": "python3",
      "display_name": "Python 3"
    },
    "language_info": {
      "name": "python"
    }
  },
  "cells": [
    {
      "cell_type": "markdown",
      "metadata": {
        "id": "view-in-github",
        "colab_type": "text"
      },
      "source": [
        "<a href=\"https://colab.research.google.com/github/AladianeCosta/Codigo-brazuca-exercicios/blob/main/Atividade_4_Curso_Polkadot.ipynb\" target=\"_parent\"><img src=\"https://colab.research.google.com/assets/colab-badge.svg\" alt=\"Open In Colab\"/></a>"
      ]
    },
    {
      "cell_type": "code",
      "execution_count": null,
      "metadata": {
        "id": "cOzBvqyRZNwJ"
      },
      "outputs": [],
      "source": [
        "#Escreva um programa que peça a temperatura atual e diga se está quente (acima de 30°C), frio(abaixo de 15°C) ou agradável (entre 15° e 30°).\n",
        "print(\"Atividade 4- Curso Polkadot\")\n",
        "print(\"Analisando as temperaturas\")\n",
        "temperatura=float(input(\"digite a temperatura atual em °C:\"))\n",
        "if temperatura >30:\n",
        "  descricao=\"está  quente se hidrate bastante\"\n",
        "elif temperatura <15:\n",
        "  descricao= \" está frio, não esqueça o agasalho\"\n",
        "else:\n",
        "  descricao=\"está agradável, assim está otimo\"\n",
        "  print(descricao)\n"
      ]
    }
  ]
}
