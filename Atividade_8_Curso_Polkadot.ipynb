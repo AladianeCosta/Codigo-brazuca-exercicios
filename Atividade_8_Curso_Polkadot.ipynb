{
  "nbformat": 4,
  "nbformat_minor": 0,
  "metadata": {
    "colab": {
      "provenance": [],
      "authorship_tag": "ABX9TyMZVgN6edNxEPwQu2ESVr+O",
      "include_colab_link": true
    },
    "kernelspec": {
      "name": "python3",
      "display_name": "Python 3"
    },
    "language_info": {
      "name": "python"
    }
  },
  "cells": [
    {
      "cell_type": "markdown",
      "metadata": {
        "id": "view-in-github",
        "colab_type": "text"
      },
      "source": [
        "<a href=\"https://colab.research.google.com/github/AladianeCosta/Codigo-brazuca-exercicios/blob/main/Atividade_8_Curso_Polkadot.ipynb\" target=\"_parent\"><img src=\"https://colab.research.google.com/assets/colab-badge.svg\" alt=\"Open In Colab\"/></a>"
      ]
    },
    {
      "cell_type": "code",
      "execution_count": 1,
      "metadata": {
        "colab": {
          "base_uri": "https://localhost:8080/"
        },
        "id": "6EedQZbUbnm0",
        "outputId": "ea56b894-564e-4a5a-9ef5-e3a728716056"
      },
      "outputs": [
        {
          "output_type": "stream",
          "name": "stdout",
          "text": [
            "Atividade 8- Curso Polkadot\n",
            "Função par ou impar\n",
            "Digite um número: 10\n",
            "O número 10 é Par.\n"
          ]
        }
      ],
      "source": [
        "#Escreva uma função que receba um número e retorne se ele é par ou ímpar.\n",
        "print(\"Atividade 8- Curso Polkadot\")\n",
        "print(\"Função par ou impar\")\n",
        "def verificar_par_ou_impar(numero):\n",
        "    if numero % 2 == 0:\n",
        "        return \"Par\"\n",
        "    else:\n",
        "        return \"Ímpar\"\n",
        "\n",
        "numero = int(input(\"Digite um número: \"))\n",
        "resultado = verificar_par_ou_impar(numero)\n",
        "print(f\"O número {numero} é {resultado}.\")"
      ]
    }
  ]
}