{
  "nbformat": 4,
  "nbformat_minor": 0,
  "metadata": {
    "colab": {
      "provenance": [],
      "authorship_tag": "ABX9TyNi73vGkTvn0uFfOyIuuBbN",
      "include_colab_link": true
    },
    "kernelspec": {
      "name": "python3",
      "display_name": "Python 3"
    },
    "language_info": {
      "name": "python"
    }
  },
  "cells": [
    {
      "cell_type": "markdown",
      "metadata": {
        "id": "view-in-github",
        "colab_type": "text"
      },
      "source": [
        "<a href=\"https://colab.research.google.com/github/AladianeCosta/Codigo-brazuca-exercicios/blob/main/Atividade_6_Curso_Polkadot.ipynb\" target=\"_parent\"><img src=\"https://colab.research.google.com/assets/colab-badge.svg\" alt=\"Open In Colab\"/></a>"
      ]
    },
    {
      "cell_type": "code",
      "execution_count": 1,
      "metadata": {
        "colab": {
          "base_uri": "https://localhost:8080/"
        },
        "id": "AH-350kpag-L",
        "outputId": "3f373c74-df4d-43b1-c701-a629a30e2f00"
      },
      "outputs": [
        {
          "name": "stdout",
          "output_type": "stream",
          "text": [
            "Atividade 6- Curso Polkadot\n",
            " Vamos contar alguns numeros, você decide onde parar\n",
            "digite um numero (ou 0 para sair):0\n"
          ]
        }
      ],
      "source": [
        "#Crie um programa que pergunte ao usuário por números até que ele digite zero e então mostre a soma dos números digitados.\n",
        "print(\"Atividade 6- Curso Polkadot\")\n",
        "print(\" Vamos contar alguns numeros, você decide onde parar\")\n",
        "while True:\n",
        "    numero = float(input(\"digite um numero (ou 0 para sair):\"))\n",
        "\n",
        "    if numero == 0:\n",
        "       break\n",
        "\n",
        "    soma+=numero"
      ]
    }
  ]
}