{
  "nbformat": 4,
  "nbformat_minor": 0,
  "metadata": {
    "colab": {
      "provenance": [],
      "authorship_tag": "ABX9TyNg+QRp2AmvHDIDdaUjT8Oc",
      "include_colab_link": true
    },
    "kernelspec": {
      "name": "python3",
      "display_name": "Python 3"
    },
    "language_info": {
      "name": "python"
    }
  },
  "cells": [
    {
      "cell_type": "markdown",
      "metadata": {
        "id": "view-in-github",
        "colab_type": "text"
      },
      "source": [
        "<a href=\"https://colab.research.google.com/github/AladianeCosta/Codigo-brazuca-exercicios/blob/main/Semana_03_Python/Python_Ativi_13.ipynb\" target=\"_parent\"><img src=\"https://colab.research.google.com/assets/colab-badge.svg\" alt=\"Open In Colab\"/></a>"
      ]
    },
    {
      "cell_type": "code",
      "execution_count": 1,
      "metadata": {
        "colab": {
          "base_uri": "https://localhost:8080/"
        },
        "id": "TWtZKWDGW7_u",
        "outputId": "5a286c77-bdc5-40c6-e474-9837c916654d"
      },
      "outputs": [
        {
          "output_type": "stream",
          "name": "stdout",
          "text": [
            "Atividade 13 (segunda parte) - Curso Polkadot\n",
            "Soma de numeros pares\n",
            "Digite o numero inicial:16\n",
            "Digite o numero final:15\n",
            "A soma dos numeros pares entre 16 e 15 é 0.\n"
          ]
        }
      ],
      "source": [
        "#Soma de numeros pares\n",
        "print(\"Atividade 13 (segunda parte) - Curso Polkadot\")\n",
        "print(\"Soma de numeros pares\")\n",
        "\n",
        "def soma_numeros_pares(inicio, fim):\n",
        "    soma = 0\n",
        "    for numero in range(inicio, fim +1):\n",
        "        if numero % 2 == 0:\n",
        "           soma += numero\n",
        "    return soma\n",
        "\n",
        "inicio =int(input(\"Digite o numero inicial:\"))\n",
        "\n",
        "fim = int(input(\"Digite o numero final:\"))\n",
        "\n",
        "resultado = soma_numeros_pares(inicio, fim)\n",
        "\n",
        "print(f\"A soma dos numeros pares entre {inicio} e {fim} é {resultado}.\")\n"
      ]
    }
  ]
}