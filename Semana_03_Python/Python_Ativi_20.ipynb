{
  "nbformat": 4,
  "nbformat_minor": 0,
  "metadata": {
    "colab": {
      "provenance": [],
      "authorship_tag": "ABX9TyNsA/OHf9kL1lxKSfH6Iqm3",
      "include_colab_link": true
    },
    "kernelspec": {
      "name": "python3",
      "display_name": "Python 3"
    },
    "language_info": {
      "name": "python"
    }
  },
  "cells": [
    {
      "cell_type": "markdown",
      "metadata": {
        "id": "view-in-github",
        "colab_type": "text"
      },
      "source": [
        "<a href=\"https://colab.research.google.com/github/AladianeCosta/Codigo-brazuca-exercicios/blob/main/Semana_03_Python/Python_Ativi_20.ipynb\" target=\"_parent\"><img src=\"https://colab.research.google.com/assets/colab-badge.svg\" alt=\"Open In Colab\"/></a>"
      ]
    },
    {
      "cell_type": "code",
      "execution_count": 2,
      "metadata": {
        "colab": {
          "base_uri": "https://localhost:8080/"
        },
        "id": "-77bM-f0Z-cN",
        "outputId": "c60d4b96-2fb9-4667-e3e4-bcc98824bde8"
      },
      "outputs": [
        {
          "output_type": "stream",
          "name": "stdout",
          "text": [
            "Atividade 20(segunda parte)- Contagem de palavras\n",
            "Lista numerica\n",
            "A lista está vazia\n",
            "Maior:5, menor:1, soma:15, media:3.0\n"
          ]
        }
      ],
      "source": [
        "# Análise de Lista de Números\n",
        "print(\"Atividade 20(segunda parte)- Contagem de palavras\")\n",
        "print(\"Lista numerica\")\n",
        "\n",
        "def analisar_lista(lista):\n",
        "  if not lista:\n",
        "     return \"A lista está vazia.\"\n",
        "  maior = max(lista)\n",
        "  menor = min(lista)\n",
        "  soma = sum(lista)\n",
        "  media = soma / len(lista)\n",
        "\n",
        "  return f\"Maior:{maior}, menor:{menor}, soma:{soma}, media:{media}\"\n",
        "\n",
        "print(\"A lista está vazia\")\n",
        "lista= exemplo =[1,2,3,4,5]\n",
        "resultado= analisar_lista(lista)\n",
        "print(resultado)\n"
      ]
    }
  ]
}