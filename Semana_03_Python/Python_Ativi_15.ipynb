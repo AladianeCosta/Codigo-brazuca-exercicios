{
  "nbformat": 4,
  "nbformat_minor": 0,
  "metadata": {
    "colab": {
      "provenance": [],
      "authorship_tag": "ABX9TyMmtuWqwH3Hm+QxaTtC9LkZ",
      "include_colab_link": true
    },
    "kernelspec": {
      "name": "python3",
      "display_name": "Python 3"
    },
    "language_info": {
      "name": "python"
    }
  },
  "cells": [
    {
      "cell_type": "markdown",
      "metadata": {
        "id": "view-in-github",
        "colab_type": "text"
      },
      "source": [
        "<a href=\"https://colab.research.google.com/github/AladianeCosta/Codigo-brazuca-exercicios/blob/main/Semana_03_Python/Python_Ativi_15.ipynb\" target=\"_parent\"><img src=\"https://colab.research.google.com/assets/colab-badge.svg\" alt=\"Open In Colab\"/></a>"
      ]
    },
    {
      "cell_type": "code",
      "execution_count": 1,
      "metadata": {
        "colab": {
          "base_uri": "https://localhost:8080/"
        },
        "id": "CfNeNh6eXenT",
        "outputId": "ce581426-c969-4521-c403-68621505b3e4"
      },
      "outputs": [
        {
          "output_type": "stream",
          "name": "stdout",
          "text": [
            "Atividade 15 (segunda parte)- Curso Polkadot\n",
            "Soma dos N\n",
            "Soma dos N primeiros números naturais\n",
            "Digite o valor de n:15\n",
            "A soma dos 15 primeiros números naturais é: 120\n"
          ]
        }
      ],
      "source": [
        "#Soma dos N primeiros Números\n",
        "print(\"Atividade 15 (segunda parte)- Curso Polkadot\")\n",
        "print(\"Soma dos N\")\n",
        "def soma_n_primeiros_números(n):\n",
        "    soma =0\n",
        "    for número in range(1, n+1):\n",
        "        soma += número\n",
        "    return soma\n",
        "def main():\n",
        "    print(\"Soma dos N primeiros números naturais\")\n",
        "\n",
        "    try:\n",
        "       n = int(input(\"Digite o valor de n:\"))\n",
        "       if n < 1:\n",
        "        print(\"O valor de n deve ser um número natural positivo\")\n",
        "        return\n",
        "    except ValueError:\n",
        "     print(\"Entrada invalida. Por favor, digite um número inteiro positivo.\")\n",
        "     return\n",
        "    resultado= soma_n_primeiros_números(n)\n",
        "    print(f\"A soma dos {n} primeiros números naturais é: {resultado}\")\n",
        "\n",
        "if __name__ == \"__main__\":\n",
        "    main()"
      ]
    }
  ]
}