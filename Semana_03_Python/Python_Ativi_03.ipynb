{
  "nbformat": 4,
  "nbformat_minor": 0,
  "metadata": {
    "colab": {
      "provenance": [],
      "authorship_tag": "ABX9TyNHi6z1wRMWnGlCzn37RscO",
      "include_colab_link": true
    },
    "kernelspec": {
      "name": "python3",
      "display_name": "Python 3"
    },
    "language_info": {
      "name": "python"
    }
  },
  "cells": [
    {
      "cell_type": "markdown",
      "metadata": {
        "id": "view-in-github",
        "colab_type": "text"
      },
      "source": [
        "<a href=\"https://colab.research.google.com/github/AladianeCosta/Codigo-brazuca-exercicios/blob/main/Semana_03_Python/Python_Ativi_3.ipynb\" target=\"_parent\"><img src=\"https://colab.research.google.com/assets/colab-badge.svg\" alt=\"Open In Colab\"/></a>"
      ]
    },
    {
      "cell_type": "code",
      "execution_count": 1,
      "metadata": {
        "colab": {
          "base_uri": "https://localhost:8080/"
        },
        "id": "uSukdCp1SPwT",
        "outputId": "ca8cdd44-737a-4374-e3e0-89d5c5e87a76"
      },
      "outputs": [
        {
          "output_type": "stream",
          "name": "stdout",
          "text": [
            "Atividade 3(segunda parte)- Curso Polkadot\n",
            "Calculando o IMC\n",
            "Digite seu peso atual em quilogramas (kg): 15\n",
            "Digite sua altura em metros (m): 10\n",
            "Seu IMC é 0.15\n",
            "Abaixo do peso\n"
          ]
        }
      ],
      "source": [
        "#Cálculo de IMC\n",
        "print(\"Atividade 3(segunda parte)- Curso Polkadot\")\n",
        "print(\"Calculando o IMC\")\n",
        "def calcular_imc(peso, altura):\n",
        "    if altura <= 0:\n",
        "        return \"A altura deve ser maior que zero.\"\n",
        "    imc = peso / (altura ** 2)\n",
        "    return imc\n",
        "def obter_entrada_menor_que_zero(mensagem):\n",
        "    while True:\n",
        "        try:\n",
        "            valor = float(input(mensagem))\n",
        "            if valor <= 0:\n",
        "                print(\"O valor deve ser maior que zero. Tente novamente.\")\n",
        "            else:\n",
        "                return valor\n",
        "        except ValueError:\n",
        "            print(\"Entrada inválida. Por favor, digite um número válido.\")\n",
        "\n",
        "peso = obter_entrada_menor_que_zero(\"Digite seu peso atual em quilogramas (kg): \")\n",
        "altura = obter_entrada_menor_que_zero(\"Digite sua altura em metros (m): \")\n",
        "\n",
        "imc = calcular_imc(peso, altura)\n",
        "\n",
        "if isinstance(imc, str):\n",
        "    print(imc)\n",
        "else:\n",
        "    print(f\"Seu IMC é {imc:.2f}\")\n",
        "\n",
        "    if imc < 18.5:\n",
        "        print(\"Abaixo do peso\")\n",
        "    elif 18.5 <= imc < 24.9:\n",
        "        print(\"Peso normal\")\n",
        "    elif 25 <= imc < 29.9:\n",
        "        print(\"Sobrepeso\")\n",
        "    else:\n",
        "        print(\"Obesidade\")"
      ]
    }
  ]
}
