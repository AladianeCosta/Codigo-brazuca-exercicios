{
  "nbformat": 4,
  "nbformat_minor": 0,
  "metadata": {
    "colab": {
      "provenance": [],
      "authorship_tag": "ABX9TyP8MgWnSSiyZSZ6muDCv0Ip",
      "include_colab_link": true
    },
    "kernelspec": {
      "name": "python3",
      "display_name": "Python 3"
    },
    "language_info": {
      "name": "python"
    }
  },
  "cells": [
    {
      "cell_type": "markdown",
      "metadata": {
        "id": "view-in-github",
        "colab_type": "text"
      },
      "source": [
        "<a href=\"https://colab.research.google.com/github/AladianeCosta/Codigo-brazuca-exercicios/blob/main/Semana_03_Python/Python_Ativi_7.ipynb\" target=\"_parent\"><img src=\"https://colab.research.google.com/assets/colab-badge.svg\" alt=\"Open In Colab\"/></a>"
      ]
    },
    {
      "cell_type": "code",
      "execution_count": 2,
      "metadata": {
        "colab": {
          "base_uri": "https://localhost:8080/"
        },
        "id": "x6IELamEUTHt",
        "outputId": "30789ee8-92cb-4c35-e9d2-a3101198ae9c"
      },
      "outputs": [
        {
          "output_type": "stream",
          "name": "stdout",
          "text": [
            "Atividade 7 (segunda parte) - Curso Polkadot\n",
            "Media das notas\n",
            "digite as notas separadas por espaço:15 15 16\n",
            "A media das notas é 15.33.\n"
          ]
        }
      ],
      "source": [
        "#Média de Notas\n",
        "print(\"Atividade 7 (segunda parte) - Curso Polkadot\")\n",
        "print(\"Media das notas\")\n",
        "def calcular_media(notas):\n",
        "    if notas:\n",
        "      notas = list(map(float, notas))\n",
        "    return sum(notas) /( len(notas))\n",
        "texto = input(\"digite as notas separadas por espaço:\")\n",
        "notas= texto.split()\n",
        "media = calcular_media(notas)\n",
        "print(f\"A media das notas é {media:.2f}.\")"
      ]
    }
  ]
}