{
  "nbformat": 4,
  "nbformat_minor": 0,
  "metadata": {
    "colab": {
      "provenance": [],
      "authorship_tag": "ABX9TyMAOSEvqUjq3YnPTuHcvTTw",
      "include_colab_link": true
    },
    "kernelspec": {
      "name": "python3",
      "display_name": "Python 3"
    },
    "language_info": {
      "name": "python"
    }
  },
  "cells": [
    {
      "cell_type": "markdown",
      "metadata": {
        "id": "view-in-github",
        "colab_type": "text"
      },
      "source": [
        "<a href=\"https://colab.research.google.com/github/AladianeCosta/Codigo-brazuca-exercicios/blob/main/Semana_03_Python/Python_Ativi_5.ipynb\" target=\"_parent\"><img src=\"https://colab.research.google.com/assets/colab-badge.svg\" alt=\"Open In Colab\"/></a>"
      ]
    },
    {
      "cell_type": "code",
      "execution_count": null,
      "metadata": {
        "colab": {
          "base_uri": "https://localhost:8080/"
        },
        "id": "vulLWIAvTZPr",
        "outputId": "f9e6a1df-15fd-45b8-d0d0-bbcda0f39288"
      },
      "outputs": [
        {
          "output_type": "stream",
          "name": "stdout",
          "text": [
            "Atividade 5(segunda parte)- Curso Polkadot\n",
            "vamos fazera a tabuada\n",
            "digite um numero para sua tabuada:15\n",
            "Tabuada do 15:\n",
            "15 x 1 = 15.\n",
            "15 x 2 = 15.\n",
            "15 x 3 = 15.\n",
            "15 x 4 = 15.\n",
            "15 x 5 = 15.\n",
            "15 x 6 = 15.\n",
            "15 x 7 = 15.\n",
            "15 x 8 = 15.\n",
            "15 x 9 = 15.\n",
            "15 x 10 = 15.\n"
          ]
        }
      ],
      "source": [
        "#Tabuada\n",
        "print(\"Atividade 5(segunda parte)- Curso Polkadot\")\n",
        "print(\"vamos fazera a tabuada\")\n",
        "def gerar_tabuada(numero):\n",
        "    print(f\"Tabuada do {numero}:\")\n",
        "    for i in range(1,11):\n",
        "        resultado = numero*1\n",
        "        print(f\"{numero} x {i} = {resultado}.\")\n",
        "numero = int(input(\"digite um numero para sua tabuada:\"))\n",
        "gerar_tabuada(numero)\n"
      ]
    }
  ]
}