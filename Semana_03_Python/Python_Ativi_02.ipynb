{
  "nbformat": 4,
  "nbformat_minor": 0,
  "metadata": {
    "colab": {
      "provenance": [],
      "authorship_tag": "ABX9TyNkDy04NBTKVYGnPS7vfS1v",
      "include_colab_link": true
    },
    "kernelspec": {
      "name": "python3",
      "display_name": "Python 3"
    },
    "language_info": {
      "name": "python"
    }
  },
  "cells": [
    {
      "cell_type": "markdown",
      "metadata": {
        "id": "view-in-github",
        "colab_type": "text"
      },
      "source": [
        "<a href=\"https://colab.research.google.com/github/AladianeCosta/Codigo-brazuca-exercicios/blob/main/Semana_03_Python/Python_Ativi_2.ipynb\" target=\"_parent\"><img src=\"https://colab.research.google.com/assets/colab-badge.svg\" alt=\"Open In Colab\"/></a>"
      ]
    },
    {
      "cell_type": "code",
      "execution_count": 1,
      "metadata": {
        "colab": {
          "base_uri": "https://localhost:8080/"
        },
        "id": "YMIBB338R8NJ",
        "outputId": "d1185276-b3e5-42dd-89c6-f527ed37da06"
      },
      "outputs": [
        {
          "output_type": "stream",
          "name": "stdout",
          "text": [
            "Atividade 2(segunda parte)- Curso Polkadot\n",
            "Convertendo a temperatura\n",
            "digite a temperatura em celsius:35\n",
            "a temperatura de 35.0°C é equivalente a 95.0°F e 62.0 k.\n"
          ]
        }
      ],
      "source": [
        "# Conversão de Temperaturas\n",
        "print(\"Atividade 2(segunda parte)- Curso Polkadot\")\n",
        "print(\"Convertendo a temperatura\")\n",
        "def converter_temperatura(celsius):\n",
        "    farenheit = (celsius * 9/5)+32\n",
        "    kelvin = celsius + 27\n",
        "    return farenheit, kelvin\n",
        "\n",
        "celsius = float(input(\"digite a temperatura em celsius:\"))\n",
        "farenheit, kelvin = converter_temperatura(celsius)\n",
        "print(f\"a temperatura de {celsius}°C é equivalente a {farenheit}°F e {kelvin} k.\")"
      ]
    }
  ]
}
