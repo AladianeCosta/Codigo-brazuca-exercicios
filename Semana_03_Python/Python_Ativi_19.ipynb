{
  "nbformat": 4,
  "nbformat_minor": 0,
  "metadata": {
    "colab": {
      "provenance": [],
      "authorship_tag": "ABX9TyMmRWSkAtnrIgDWjTn5JCEV",
      "include_colab_link": true
    },
    "kernelspec": {
      "name": "python3",
      "display_name": "Python 3"
    },
    "language_info": {
      "name": "python"
    }
  },
  "cells": [
    {
      "cell_type": "markdown",
      "metadata": {
        "id": "view-in-github",
        "colab_type": "text"
      },
      "source": [
        "<a href=\"https://colab.research.google.com/github/AladianeCosta/Codigo-brazuca-exercicios/blob/main/Semana_03_Python/Python_Ativi_19.ipynb\" target=\"_parent\"><img src=\"https://colab.research.google.com/assets/colab-badge.svg\" alt=\"Open In Colab\"/></a>"
      ]
    },
    {
      "cell_type": "code",
      "execution_count": 5,
      "metadata": {
        "colab": {
          "base_uri": "https://localhost:8080/"
        },
        "id": "wGHBWyeHZGWo",
        "outputId": "bee652d7-1355-416b-aa1c-750341741195"
      },
      "outputs": [
        {
          "output_type": "stream",
          "name": "stdout",
          "text": [
            "Atividade 19(segunda parte)- Contagem de palavras\n",
            "Média ponderada\n",
            "Digite a primeira nota(peso2):10\n",
            "Digite a segunda nora(peso3):15\n",
            "Digite a terceira nota(peso5):5\n",
            "A media ponderada é  9.00\n"
          ]
        }
      ],
      "source": [
        "#Média Ponderada\n",
        "print(\"Atividade 19(segunda parte)- Contagem de palavras\")\n",
        "print(\"Média ponderada\")\n",
        "\n",
        "nota1 = float(input(\"Digite a primeira nota(peso2):\"))\n",
        "nota2 = float(input(\"Digite a segunda nora(peso3):\"))\n",
        "nota3 = float(input(\"Digite a terceira nota(peso5):\"))\n",
        "\n",
        "peso1=2\n",
        "peso2=3\n",
        "peso3=5\n",
        "\n",
        "media_ponderada= (nota1*peso1+nota2*peso2+nota3*peso3)/(peso1+peso2+peso3)\n",
        "print(f\"A media ponderada é {media_ponderada : .2f}\")"
      ]
    }
  ]
}