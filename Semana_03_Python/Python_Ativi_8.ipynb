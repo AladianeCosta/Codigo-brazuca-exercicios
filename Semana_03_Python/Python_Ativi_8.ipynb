{
  "nbformat": 4,
  "nbformat_minor": 0,
  "metadata": {
    "colab": {
      "provenance": [],
      "authorship_tag": "ABX9TyO+ESYqpFBb9pha3+toT59T",
      "include_colab_link": true
    },
    "kernelspec": {
      "name": "python3",
      "display_name": "Python 3"
    },
    "language_info": {
      "name": "python"
    }
  },
  "cells": [
    {
      "cell_type": "markdown",
      "metadata": {
        "id": "view-in-github",
        "colab_type": "text"
      },
      "source": [
        "<a href=\"https://colab.research.google.com/github/AladianeCosta/Codigo-brazuca-exercicios/blob/main/Semana_03_Python/Python_Ativi_8.ipynb\" target=\"_parent\"><img src=\"https://colab.research.google.com/assets/colab-badge.svg\" alt=\"Open In Colab\"/></a>"
      ]
    },
    {
      "cell_type": "code",
      "execution_count": 1,
      "metadata": {
        "colab": {
          "base_uri": "https://localhost:8080/"
        },
        "id": "K0i9xMuUUmJ1",
        "outputId": "d821b1b3-6370-4acc-dbb4-d5534e2005fb"
      },
      "outputs": [
        {
          "output_type": "stream",
          "name": "stdout",
          "text": [
            "Atividade 8 (segunda parte)- Curso Polkadot\n",
            "Sequência de Fibonacci\n",
            "Digite o numero de termos da sequência de fibonacci:18\n",
            "sequencia de Fibonacci com18termos:\n",
            "[0, 1, 1, 2, 3, 5, 8, 13, 21, 34, 55, 89, 144, 233, 377, 610, 987, 1597]\n"
          ]
        }
      ],
      "source": [
        "#Sequência de Fibonacci\n",
        "print(\"Atividade 8 (segunda parte)- Curso Polkadot\")\n",
        "print(\"Sequência de Fibonacci\")\n",
        "def gerar_fibonacci(n):\n",
        "    fibonacci = [0, 1]\n",
        "    while len(fibonacci) <n:\n",
        "       proximo = fibonacci[-1]+fibonacci[-2]\n",
        "       fibonacci.append(proximo)\n",
        "    return fibonacci[:n]\n",
        "n = int(input(\"Digite o numero de termos da sequência de fibonacci:\"))\n",
        "if n<=0:\n",
        "        print(\"Insira um numero maior que zero:\")\n",
        "else:\n",
        "            fibonacci = gerar_fibonacci(n)\n",
        "print(f\"sequencia de Fibonacci com{n}termos:\")\n",
        "print(fibonacci[:n])\n"
      ]
    }
  ]
}