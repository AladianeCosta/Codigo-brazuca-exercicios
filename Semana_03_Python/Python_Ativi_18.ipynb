{
  "nbformat": 4,
  "nbformat_minor": 0,
  "metadata": {
    "colab": {
      "provenance": [],
      "authorship_tag": "ABX9TyOBTmlpj5Rs11SoaShSm63m",
      "include_colab_link": true
    },
    "kernelspec": {
      "name": "python3",
      "display_name": "Python 3"
    },
    "language_info": {
      "name": "python"
    }
  },
  "cells": [
    {
      "cell_type": "markdown",
      "metadata": {
        "id": "view-in-github",
        "colab_type": "text"
      },
      "source": [
        "<a href=\"https://colab.research.google.com/github/AladianeCosta/Codigo-brazuca-exercicios/blob/main/Semana_03_Python/Python_Ativi_18.ipynb\" target=\"_parent\"><img src=\"https://colab.research.google.com/assets/colab-badge.svg\" alt=\"Open In Colab\"/></a>"
      ]
    },
    {
      "cell_type": "code",
      "execution_count": 1,
      "metadata": {
        "colab": {
          "base_uri": "https://localhost:8080/"
        },
        "id": "uJ2ZWznJYwaL",
        "outputId": "3aa3ca62-b9bc-48a9-99ca-5b68fc626054"
      },
      "outputs": [
        {
          "output_type": "stream",
          "name": "stdout",
          "text": [
            "Atividade 18(segunda parte)- Contagem de palavras\n",
            "Contagem de palavras\n",
            "Digite um texto:Muita luz no seu caminho\n",
            "A quantidade de palavras no texto é 5\n"
          ]
        }
      ],
      "source": [
        "#Contagem de palavras\n",
        "print(\"Atividade 18(segunda parte)- Contagem de palavras\")\n",
        "print(\"Contagem de palavras\")\n",
        "\n",
        "def contar_palavras(texto):\n",
        "    palavras = texto.split()\n",
        "    return len(palavras)\n",
        "texto =input(\"Digite um texto:\")\n",
        "quantidade_palavras = contar_palavras(texto)\n",
        "print(f\"A quantidade de palavras no texto é {quantidade_palavras}\")"
      ]
    }
  ]
}