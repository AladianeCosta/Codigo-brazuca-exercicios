{
  "nbformat": 4,
  "nbformat_minor": 0,
  "metadata": {
    "colab": {
      "provenance": [],
      "authorship_tag": "ABX9TyNje7q4wJw1UF0nHLyqJenV",
      "include_colab_link": true
    },
    "kernelspec": {
      "name": "python3",
      "display_name": "Python 3"
    },
    "language_info": {
      "name": "python"
    }
  },
  "cells": [
    {
      "cell_type": "markdown",
      "metadata": {
        "id": "view-in-github",
        "colab_type": "text"
      },
      "source": [
        "<a href=\"https://colab.research.google.com/github/AladianeCosta/Codigo-brazuca-exercicios/blob/main/Semana_03_Python/Python_Ativi_1.ipynb\" target=\"_parent\"><img src=\"https://colab.research.google.com/assets/colab-badge.svg\" alt=\"Open In Colab\"/></a>"
      ]
    },
    {
      "cell_type": "code",
      "execution_count": 1,
      "metadata": {
        "colab": {
          "base_uri": "https://localhost:8080/"
        },
        "id": "NXgnhEHfRj_P",
        "outputId": "cd4ec6a2-d343-4dc7-89fa-543ed03a14e5"
      },
      "outputs": [
        {
          "output_type": "stream",
          "name": "stdout",
          "text": [
            "Atividade 1 (segunda parte)- Curso Polkadot\n",
            "Calculando fatorial\n",
            "Digite um numero inteiro para calcular o fatorial:10\n",
            "o fatorial de 10 é 3628800.\n"
          ]
        }
      ],
      "source": [
        "#Calculando fatorial\n",
        "print(\"Atividade 1 (segunda parte)- Curso Polkadot\")\n",
        "print(\"Calculando fatorial\")\n",
        "def calcular_fatorial(n):\n",
        "    if n <0:\n",
        "       return \"o fatoral não está definido para numeros negativos\"\n",
        "    fatorial=1\n",
        "    for i in range(1, n + 1):\n",
        "        fatorial *=i\n",
        "    return fatorial\n",
        "\n",
        "numero = int(input(\"Digite um numero inteiro para calcular o fatorial:\"))\n",
        "resultado = calcular_fatorial(numero)\n",
        "print(f\"o fatorial de {numero} é {resultado}.\")"
      ]
    }
  ]
}
