{
  "nbformat": 4,
  "nbformat_minor": 0,
  "metadata": {
    "colab": {
      "provenance": [],
      "authorship_tag": "ABX9TyM8ui88TlW6noS74zyGHD/J",
      "include_colab_link": true
    },
    "kernelspec": {
      "name": "python3",
      "display_name": "Python 3"
    },
    "language_info": {
      "name": "python"
    }
  },
  "cells": [
    {
      "cell_type": "markdown",
      "metadata": {
        "id": "view-in-github",
        "colab_type": "text"
      },
      "source": [
        "<a href=\"https://colab.research.google.com/github/AladianeCosta/Codigo-brazuca-exercicios/blob/main/Semana_03_Python/Python_Ativi_4.ipynb\" target=\"_parent\"><img src=\"https://colab.research.google.com/assets/colab-badge.svg\" alt=\"Open In Colab\"/></a>"
      ]
    },
    {
      "cell_type": "code",
      "execution_count": 1,
      "metadata": {
        "colab": {
          "base_uri": "https://localhost:8080/"
        },
        "id": "Y76Hh-2SSoUg",
        "outputId": "29c80c39-0e57-43d1-ded0-82fb8cf34a5d"
      },
      "outputs": [
        {
          "output_type": "stream",
          "name": "stdout",
          "text": [
            "Atividade 4(segunda parte)- Curso Polkadot\n",
            "Palíndromo\n",
            "digite um texto:Era uma vez um menino muito feliz que não conhecia a maldade\n",
            "'Era uma vez um menino muito feliz que não conhecia a maldade nao é palíndromo.\n"
          ]
        }
      ],
      "source": [
        "#Verificação de Palíndromo\n",
        "print(\"Atividade 4(segunda parte)- Curso Polkadot\")\n",
        "print(\"Palíndromo\")\n",
        "def eh_palíndromo_(texto):\n",
        "    texto_limpo = ''.join(texto.lower().split())\n",
        "    return texto_limpo == texto_limpo[::-1]\n",
        "texto = input(\"digite um texto:\")\n",
        "if eh_palíndromo_(texto):\n",
        "    print(f\"'{texto} é um palíndromo.\")\n",
        "else:\n",
        "    print(f\"'{texto} nao é palíndromo.\")\n"
      ]
    }
  ]
}