{
  "nbformat": 4,
  "nbformat_minor": 0,
  "metadata": {
    "colab": {
      "provenance": [],
      "authorship_tag": "ABX9TyP/z88NfefPcznqUJKzvvzB",
      "include_colab_link": true
    },
    "kernelspec": {
      "name": "python3",
      "display_name": "Python 3"
    },
    "language_info": {
      "name": "python"
    }
  },
  "cells": [
    {
      "cell_type": "markdown",
      "metadata": {
        "id": "view-in-github",
        "colab_type": "text"
      },
      "source": [
        "<a href=\"https://colab.research.google.com/github/AladianeCosta/Codigo-brazuca-exercicios/blob/main/Semana_03_Python/Python_Ativi_14.ipynb\" target=\"_parent\"><img src=\"https://colab.research.google.com/assets/colab-badge.svg\" alt=\"Open In Colab\"/></a>"
      ]
    },
    {
      "cell_type": "code",
      "execution_count": 1,
      "metadata": {
        "colab": {
          "base_uri": "https://localhost:8080/"
        },
        "id": "nsb9wQFtXJzJ",
        "outputId": "635b30e1-eeb3-464e-e3e8-77e66b851991"
      },
      "outputs": [
        {
          "output_type": "stream",
          "name": "stdout",
          "text": [
            "Atividade 14 (segunda parte)- Curso Polkadot\n",
            "Claculadora\n",
            "Digite o primeiro numero:12\n",
            "Digite o operador (+, -, *, / :)+\n",
            "Digite o segundo numero:13\n",
            "o resultado é 25.0\n",
            "Calculadora Simples\n"
          ]
        }
      ],
      "source": [
        "#Calculadora simples\n",
        "print(\"Atividade 14 (segunda parte)- Curso Polkadot\")\n",
        "print(\"Claculadora\")\n",
        "\n",
        "def calculadora(num1, operador, num2):\n",
        "\n",
        "  operações= {\n",
        "\n",
        "   '+': num1 + num2,\n",
        "   '-': num1 - num2,\n",
        "   '*': num1 * num2,\n",
        "   '/': num1/num2 if num2!=0 else \"Erro: divisão por 0\"\n",
        "\n",
        "  }\n",
        "\n",
        "  return  operações.get(operador, \"operação invalida\")\n",
        "def main():\n",
        "    print(\"Calculadora Simples\")\n",
        "\n",
        "num1 = float(input(\"Digite o primeiro numero:\"))\n",
        "operador =input(\"Digite o operador (+, -, *, / :)\")\n",
        "num2 = float(input(\"Digite o segundo numero:\"))\n",
        "resultado = calculadora(num1, operador, num2)\n",
        "\n",
        "print(f\"o resultado é {resultado}\")\n",
        "\n",
        "\n",
        "if __name__ == \"__main__\":\n",
        "\n",
        "     main()\n"
      ]
    }
  ]
}