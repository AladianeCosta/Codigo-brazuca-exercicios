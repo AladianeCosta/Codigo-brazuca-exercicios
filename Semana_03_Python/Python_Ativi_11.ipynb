{
  "nbformat": 4,
  "nbformat_minor": 0,
  "metadata": {
    "colab": {
      "provenance": [],
      "authorship_tag": "ABX9TyOT+TeEmO+Y4S11EdNdeO6L",
      "include_colab_link": true
    },
    "kernelspec": {
      "name": "python3",
      "display_name": "Python 3"
    },
    "language_info": {
      "name": "python"
    }
  },
  "cells": [
    {
      "cell_type": "markdown",
      "metadata": {
        "id": "view-in-github",
        "colab_type": "text"
      },
      "source": [
        "<a href=\"https://colab.research.google.com/github/AladianeCosta/Codigo-brazuca-exercicios/blob/main/Semana_03_Python/Python_Ativi_0_11.ipynb\" target=\"_parent\"><img src=\"https://colab.research.google.com/assets/colab-badge.svg\" alt=\"Open In Colab\"/></a>"
      ]
    },
    {
      "cell_type": "code",
      "execution_count": 1,
      "metadata": {
        "colab": {
          "base_uri": "https://localhost:8080/"
        },
        "id": "-bGHv9zSV2lM",
        "outputId": "8a773b77-911a-4f9f-db18-fe3fc8297637"
      },
      "outputs": [
        {
          "output_type": "stream",
          "name": "stdout",
          "text": [
            "Atividade 11 (segunda parte) - Curso Polkadot\n",
            "Vamos calcular a área de um círculo\n",
            "Digite o raio do círculo: 10\n",
            "A área do círculo é 314.16.\n"
          ]
        }
      ],
      "source": [
        "#Calculo de área de circulo\n",
        "print(\"Atividade 11 (segunda parte) - Curso Polkadot\")\n",
        "print(\"Vamos calcular a área de um círculo\")\n",
        "\n",
        "import math\n",
        "\n",
        "def calcular_area_circulo(raio):\n",
        "    return (raio > 0) and (f\"A área do círculo é {math.pi * raio**2:.2f}.\") or \"O raio deve ser maior que 0\"\n",
        "\n",
        "texto = input(\"Digite o raio do círculo: \")\n",
        "raio = float(texto)\n",
        "resultado = calcular_area_circulo(raio)\n",
        "\n",
        "print(resultado)"
      ]
    }
  ]
}
