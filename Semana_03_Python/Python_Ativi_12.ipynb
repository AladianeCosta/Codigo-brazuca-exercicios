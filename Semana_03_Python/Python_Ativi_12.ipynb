{
  "nbformat": 4,
  "nbformat_minor": 0,
  "metadata": {
    "colab": {
      "provenance": [],
      "authorship_tag": "ABX9TyPeI0rqcpsdD7/1MUy1JxHk",
      "include_colab_link": true
    },
    "kernelspec": {
      "name": "python3",
      "display_name": "Python 3"
    },
    "language_info": {
      "name": "python"
    }
  },
  "cells": [
    {
      "cell_type": "markdown",
      "metadata": {
        "id": "view-in-github",
        "colab_type": "text"
      },
      "source": [
        "<a href=\"https://colab.research.google.com/github/AladianeCosta/Codigo-brazuca-exercicios/blob/main/Semana_03_Python/Python_Ativi_12.ipynb\" target=\"_parent\"><img src=\"https://colab.research.google.com/assets/colab-badge.svg\" alt=\"Open In Colab\"/></a>"
      ]
    },
    {
      "cell_type": "code",
      "execution_count": 1,
      "metadata": {
        "colab": {
          "base_uri": "https://localhost:8080/"
        },
        "id": "0WMup407WS9N",
        "outputId": "ca0ab0fe-ee7e-4915-a9eb-ee16a232f644"
      },
      "outputs": [
        {
          "output_type": "stream",
          "name": "stdout",
          "text": [
            "Atividade 12 (segunda parte) - Curso Polkadot\n",
            "Adivinhação\n",
            "Bem-vindo ao jogo de adivinhação!\n",
            "Tente adivinhar o número entre 1 e 100.\n",
            "Digite 'sair' a qualquer momento para encerrar o jogo.\n",
            "Digite seu palpite: 12\n",
            "Parabéns! Você acertou o número 49 em 1 tentativas.\n",
            "Digite seu palpite: 13\n",
            "Parabéns! Você acertou o número 49 em 2 tentativas.\n",
            "Digite seu palpite: 19\n",
            "Parabéns! Você acertou o número 49 em 3 tentativas.\n",
            "Digite seu palpite: sair\n",
            "Você escolheu parar o jogo. Até a próxima!\n"
          ]
        }
      ],
      "source": [
        "#Jogo de adivinhação\n",
        "print(\"Atividade 12 (segunda parte) - Curso Polkadot\")\n",
        "print(\"Adivinhação\")\n",
        "\n",
        "import random\n",
        "\n",
        "def dar_dica(palpite, numero_secreto):\n",
        "    dicas = {\n",
        "        True: \"Número muito alto! Tente um número menor.\",\n",
        "        False: \"Número muito baixo! Tente um número maior.\"\n",
        "    }\n",
        "    return dicas[palpite > numero_secreto]\n",
        "\n",
        "def resultado_jogo(palpite, numero_secreto, tentativas):\n",
        "    resultados = {\n",
        "        palpite == numero_secreto: f\"Parabéns! Você acertou o número {numero_secreto} em {tentativas} tentativas.\",\n",
        "        True: dar_dica(palpite, numero_secreto)\n",
        "    }\n",
        "    return resultados.get(palpite == numero_secreto, resultados[True])\n",
        "\n",
        "def jogo_adivinhacao():\n",
        "    numero_secreto = random.randint(1, 100)\n",
        "    tentativas = 0\n",
        "    print(\"Bem-vindo ao jogo de adivinhação!\")\n",
        "    print(\"Tente adivinhar o número entre 1 e 100.\")\n",
        "    print(\"Digite 'sair' a qualquer momento para encerrar o jogo.\")\n",
        "\n",
        "    while True:\n",
        "        entrada = input(\"Digite seu palpite: \")\n",
        "\n",
        "        # Comando para parar o jogo\n",
        "        parar_jogo = entrada.lower() == \"sair\"\n",
        "        tentativas += 1\n",
        "\n",
        "        # Verifica se o usuário decidiu parar o jogo\n",
        "        resultado = {\n",
        "            parar_jogo: \"Você escolheu parar o jogo. Até a próxima!\",\n",
        "            not parar_jogo: lambda: resultado_jogo(int(entrada), numero_secreto, tentativas)\n",
        "        }\n",
        "\n",
        "        # Se o jogo não foi parado, processa a entrada do usuário\n",
        "        if not parar_jogo:\n",
        "            try:\n",
        "                palpite = int(entrada)\n",
        "                print(resultado[not parar_jogo]())\n",
        "                if palpite == numero_secreto:\n",
        "                    break\n",
        "            except ValueError:\n",
        "                print(\"Entrada inválida. Por favor, digite um número inteiro ou 'sair'.\")\n",
        "\n",
        "        else:\n",
        "            print(resultado[parar_jogo])\n",
        "            break\n",
        "\n",
        "# Executa o jogo\n",
        "if __name__ == \"__main__\":\n",
        "    jogo_adivinhacao()"
      ]
    }
  ]
}