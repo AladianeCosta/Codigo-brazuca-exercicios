{
  "nbformat": 4,
  "nbformat_minor": 0,
  "metadata": {
    "colab": {
      "provenance": [],
      "authorship_tag": "ABX9TyNApf51dTxYfunPCVfSz/dx",
      "include_colab_link": true
    },
    "kernelspec": {
      "name": "python3",
      "display_name": "Python 3"
    },
    "language_info": {
      "name": "python"
    }
  },
  "cells": [
    {
      "cell_type": "markdown",
      "metadata": {
        "id": "view-in-github",
        "colab_type": "text"
      },
      "source": [
        "<a href=\"https://colab.research.google.com/github/AladianeCosta/Codigo-brazuca-exercicios/blob/main/Semana_03_Python/Python_Ativi_10.ipynb\" target=\"_parent\"><img src=\"https://colab.research.google.com/assets/colab-badge.svg\" alt=\"Open In Colab\"/></a>"
      ]
    },
    {
      "cell_type": "code",
      "execution_count": 1,
      "metadata": {
        "colab": {
          "base_uri": "https://localhost:8080/"
        },
        "id": "wZG9aW5DVmYs",
        "outputId": "bec5d632-5538-43d4-ebff-d95ad0acf75d"
      },
      "outputs": [
        {
          "output_type": "stream",
          "name": "stdout",
          "text": [
            "Atividade 10 (segunda parte)- Curso Polkadot\n",
            "pares ou ímpares\n",
            "Digite um número inteiro: 10\n",
            "O número 10 é par.\n"
          ]
        }
      ],
      "source": [
        "#Números Pares e Ímpares\n",
        "print(\"Atividade 10 (segunda parte)- Curso Polkadot\")\n",
        "print(\"pares ou ímpares\")\n",
        "\n",
        "def verificar_paridade(numero):\n",
        "\n",
        "    resultados = {0: \"par\", 1: \"ímpar\"}\n",
        "    return resultados[numero % 2]\n",
        "\n",
        "def main():\n",
        "    numero = int(input(\"Digite um número inteiro: \"))\n",
        "    resultado = verificar_paridade(numero)\n",
        "    print(f\"O número {numero} é {resultado}.\")\n",
        "\n",
        "main()"
      ]
    }
  ]
}