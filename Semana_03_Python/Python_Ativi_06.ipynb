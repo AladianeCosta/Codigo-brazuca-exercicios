{
  "nbformat": 4,
  "nbformat_minor": 0,
  "metadata": {
    "colab": {
      "provenance": [],
      "authorship_tag": "ABX9TyMmeiKfIGxSTDXp9zk3e05h",
      "include_colab_link": true
    },
    "kernelspec": {
      "name": "python3",
      "display_name": "Python 3"
    },
    "language_info": {
      "name": "python"
    }
  },
  "cells": [
    {
      "cell_type": "markdown",
      "metadata": {
        "id": "view-in-github",
        "colab_type": "text"
      },
      "source": [
        "<a href=\"https://colab.research.google.com/github/AladianeCosta/Codigo-brazuca-exercicios/blob/main/Semana_03_Python/Python_Ativi_6.ipynb\" target=\"_parent\"><img src=\"https://colab.research.google.com/assets/colab-badge.svg\" alt=\"Open In Colab\"/></a>"
      ]
    },
    {
      "cell_type": "code",
      "execution_count": 1,
      "metadata": {
        "colab": {
          "base_uri": "https://localhost:8080/"
        },
        "id": "xwD2pqkqTuYy",
        "outputId": "04bd1188-01bb-4d4f-b72b-6016be718b35"
      },
      "outputs": [
        {
          "output_type": "stream",
          "name": "stdout",
          "text": [
            "Atividade 6 (segunda parte) - Curso Polkadot\n",
            "Vamos contar as vogais\n",
            "Digite um texto:eu te amo muito\n",
            "A quantidade de vogais no texto é 8.\n"
          ]
        }
      ],
      "source": [
        "#Contar Vogais\n",
        "print(\"Atividade 6 (segunda parte) - Curso Polkadot\")\n",
        "print(\"Vamos contar as vogais\")\n",
        "\n",
        "def contar_vogais(texto):\n",
        "    vogais = \"aeiou\"\n",
        "    contador = 0\n",
        "    for letra in texto.lower():\n",
        "        if letra in vogais:\n",
        "            contador += 1\n",
        "    return contador\n",
        "\n",
        "texto = input(\"Digite um texto:\")\n",
        "resultado = contar_vogais(texto)\n",
        "print(f\"A quantidade de vogais no texto é {resultado}.\")"
      ]
    }
  ]
}
