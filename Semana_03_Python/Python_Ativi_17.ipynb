{
  "nbformat": 4,
  "nbformat_minor": 0,
  "metadata": {
    "colab": {
      "provenance": [],
      "authorship_tag": "ABX9TyNMWxu2rExTE110w1TR94NN",
      "include_colab_link": true
    },
    "kernelspec": {
      "name": "python3",
      "display_name": "Python 3"
    },
    "language_info": {
      "name": "python"
    }
  },
  "cells": [
    {
      "cell_type": "markdown",
      "metadata": {
        "id": "view-in-github",
        "colab_type": "text"
      },
      "source": [
        "<a href=\"https://colab.research.google.com/github/AladianeCosta/Codigo-brazuca-exercicios/blob/main/Semana_03_Python/Python_Ativi_17.ipynb\" target=\"_parent\"><img src=\"https://colab.research.google.com/assets/colab-badge.svg\" alt=\"Open In Colab\"/></a>"
      ]
    },
    {
      "cell_type": "code",
      "execution_count": 1,
      "metadata": {
        "colab": {
          "base_uri": "https://localhost:8080/"
        },
        "id": "5n4hQpZ-YaiE",
        "outputId": "7b28e084-afff-4e49-daa0-45b550599363"
      },
      "outputs": [
        {
          "output_type": "stream",
          "name": "stdout",
          "text": [
            "Atividade 17 (segunda parte) -Curso Polkadot\n",
            "Verficação de numeros perfeitos\n",
            "Digite um numero inteiro positivo:18\n",
            "18 não é um numero perfeito.\n"
          ]
        }
      ],
      "source": [
        "#Verificação de Número Perfeito\n",
        "print( \"Atividade 17 (segunda parte) -Curso Polkadot\")\n",
        "print(\"Verficação de numeros perfeitos\")\n",
        "\n",
        "def verificar_numero_perfeito(numero):\n",
        "    if numero <= 0:\n",
        "      return False\n",
        "      divisores = [1]\n",
        "      for i in range (2, int(numero**0.5)+1):\n",
        "       if numero % i == 0:\n",
        "         divisores.append(i)\n",
        "      soma_divisores = sum(divisores)\n",
        "      return soma_divisores == numero\n",
        "numero =int(input(\"Digite um numero inteiro positivo:\"))\n",
        "if verificar_numero_perfeito(numero):\n",
        "   print(f\"{numero} é um numero perfeito.\")\n",
        "else:\n",
        "  print(f\"{numero} não é um numero perfeito.\")"
      ]
    }
  ]
}