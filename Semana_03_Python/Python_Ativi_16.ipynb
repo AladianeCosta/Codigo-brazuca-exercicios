{
  "nbformat": 4,
  "nbformat_minor": 0,
  "metadata": {
    "colab": {
      "provenance": [],
      "authorship_tag": "ABX9TyNtZGSiYPw7/woC98Zq1627",
      "include_colab_link": true
    },
    "kernelspec": {
      "name": "python3",
      "display_name": "Python 3"
    },
    "language_info": {
      "name": "python"
    }
  },
  "cells": [
    {
      "cell_type": "markdown",
      "metadata": {
        "id": "view-in-github",
        "colab_type": "text"
      },
      "source": [
        "<a href=\"https://colab.research.google.com/github/AladianeCosta/Codigo-brazuca-exercicios/blob/main/Semana_03_Python/Python_Ativi_16.ipynb\" target=\"_parent\"><img src=\"https://colab.research.google.com/assets/colab-badge.svg\" alt=\"Open In Colab\"/></a>"
      ]
    },
    {
      "cell_type": "code",
      "execution_count": 1,
      "metadata": {
        "colab": {
          "base_uri": "https://localhost:8080/"
        },
        "id": "3w30RG-8X8E9",
        "outputId": "5cec6a21-373c-4555-e7f5-323245536265"
      },
      "outputs": [
        {
          "output_type": "stream",
          "name": "stdout",
          "text": [
            "Atividade 16 (segunda parte)- Curso Polkadot\n",
            "Inversão de String\n",
            "Digite uma string:12\n",
            "string invertida: 21\n"
          ]
        }
      ],
      "source": [
        "# Inversão de String\n",
        "print(\"Atividade 16 (segunda parte)- Curso Polkadot\")\n",
        "print(\"Inversão de String\")\n",
        "\n",
        "string = input(\"Digite uma string:\")\n",
        "\n",
        "string_invertida = string[:: -1]\n",
        "\n",
        "print(\"string invertida:\", string_invertida)"
      ]
    }
  ]
}