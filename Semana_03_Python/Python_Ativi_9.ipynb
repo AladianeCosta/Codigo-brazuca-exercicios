{
  "nbformat": 4,
  "nbformat_minor": 0,
  "metadata": {
    "colab": {
      "provenance": [],
      "authorship_tag": "ABX9TyOLK/TM4DpEsZDHTFUSkdXI",
      "include_colab_link": true
    },
    "kernelspec": {
      "name": "python3",
      "display_name": "Python 3"
    },
    "language_info": {
      "name": "python"
    }
  },
  "cells": [
    {
      "cell_type": "markdown",
      "metadata": {
        "id": "view-in-github",
        "colab_type": "text"
      },
      "source": [
        "<a href=\"https://colab.research.google.com/github/AladianeCosta/Codigo-brazuca-exercicios/blob/main/Semana_03_Python/Python_Ativi_9.ipynb\" target=\"_parent\"><img src=\"https://colab.research.google.com/assets/colab-badge.svg\" alt=\"Open In Colab\"/></a>"
      ]
    },
    {
      "cell_type": "code",
      "execution_count": 3,
      "metadata": {
        "colab": {
          "base_uri": "https://localhost:8080/"
        },
        "id": "y-4ACJsvU4RS",
        "outputId": "cd31a586-a2a6-41cc-98eb-e5536128a988"
      },
      "outputs": [
        {
          "output_type": "stream",
          "name": "stdout",
          "text": [
            "Atividade 9 (segunda parte)- Curso Polkadot\n",
            "Vamos ordenar os numeros\n",
            "Digite os numeros separados por espaço:18 14 30 20 10\n",
            "Numeros em ordem crescente:\n",
            "[18.0, 14.0, 30.0, 20.0, 10.0]\n"
          ]
        }
      ],
      "source": [
        "# Ordenação de Números\n",
        "print(\"Atividade 9 (segunda parte)- Curso Polkadot\")\n",
        "print(\"Vamos ordenar os numeros\")\n",
        "#Defino todas as funções que serão usadas (float para numeros decimais, sorted para numeros cres/decre)\n",
        "def ordenar_numeros(numeros):\n",
        "    numeros = list(map(float, numeros))\n",
        "    return numeros\n",
        "    numeros_ordenados = sorted(numeros)\n",
        "    return numeros_ordenados\n",
        "texto = input(\"Digite os numeros separados por espaço:\")\n",
        "#split para delimitar as partes\n",
        "numeros = texto.split()\n",
        "numeros_ordenados = ordenar_numeros(numeros)\n",
        "print(\"Numeros em ordem crescente:\")\n",
        "print(numeros_ordenados)"
      ]
    }
  ]
}