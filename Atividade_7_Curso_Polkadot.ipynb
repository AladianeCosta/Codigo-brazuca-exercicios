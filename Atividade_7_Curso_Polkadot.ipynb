{
  "nbformat": 4,
  "nbformat_minor": 0,
  "metadata": {
    "colab": {
      "provenance": [],
      "authorship_tag": "ABX9TyN8JCmmAcVJeOmWQQFHLBXK",
      "include_colab_link": true
    },
    "kernelspec": {
      "name": "python3",
      "display_name": "Python 3"
    },
    "language_info": {
      "name": "python"
    }
  },
  "cells": [
    {
      "cell_type": "markdown",
      "metadata": {
        "id": "view-in-github",
        "colab_type": "text"
      },
      "source": [
        "<a href=\"https://colab.research.google.com/github/AladianeCosta/Codigo-brazuca-exercicios/blob/main/Atividade_7_Curso_Polkadot.ipynb\" target=\"_parent\"><img src=\"https://colab.research.google.com/assets/colab-badge.svg\" alt=\"Open In Colab\"/></a>"
      ]
    },
    {
      "cell_type": "code",
      "execution_count": 1,
      "metadata": {
        "colab": {
          "base_uri": "https://localhost:8080/"
        },
        "id": "y6Tz7qEgbIlT",
        "outputId": "f0f98993-684c-4bc9-8592-b7d3d68e7bb6"
      },
      "outputs": [
        {
          "name": "stdout",
          "output_type": "stream",
          "text": [
            "Atividade 7- Curso Polkadot\n",
            "Lista de compras\n",
            "digite um item para adicionar a lista de compras(ou digite 'fim' para terminar):banana\n",
            "\n",
            "Lista de Compras:\n",
            "1. banana\n",
            "digite um item para adicionar a lista de compras(ou digite 'fim' para terminar):fim\n"
          ]
        }
      ],
      "source": [
        "#Crie uma lista de compras que permita ao usuário adicionar itens e, em seguida, imprimir a lista de compras completa.\n",
        "print(\"Atividade 7- Curso Polkadot\")\n",
        "print(\"Lista de compras\")\n",
        "lista_de_compras=[]\n",
        "\n",
        "while True:\n",
        "   item = input((\"digite um item para adicionar a lista de compras(ou digite 'fim' para terminar):\"))\n",
        "\n",
        "   if item.lower() == 'fim':\n",
        "      break\n",
        "\n",
        "   lista_de_compras.append(item)\n",
        "\n",
        "   print(\"\\nLista de Compras:\")\n",
        "   for i, item in enumerate(lista_de_compras, 1):\n",
        "       print(f\"{i}. {item}\")"
      ]
    }
  ]
}