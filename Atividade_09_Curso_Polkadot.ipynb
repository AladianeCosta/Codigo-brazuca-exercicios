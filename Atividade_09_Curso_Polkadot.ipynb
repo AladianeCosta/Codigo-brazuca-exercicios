{
  "nbformat": 4,
  "nbformat_minor": 0,
  "metadata": {
    "colab": {
      "provenance": [],
      "authorship_tag": "ABX9TyNFU5ALI8A7/prtdTEJLJi/",
      "include_colab_link": true
    },
    "kernelspec": {
      "name": "python3",
      "display_name": "Python 3"
    },
    "language_info": {
      "name": "python"
    }
  },
  "cells": [
    {
      "cell_type": "markdown",
      "metadata": {
        "id": "view-in-github",
        "colab_type": "text"
      },
      "source": [
        "<a href=\"https://colab.research.google.com/github/AladianeCosta/Codigo-brazuca-exercicios/blob/main/Atividade_9_Curso_Polkadot.ipynb\" target=\"_parent\"><img src=\"https://colab.research.google.com/assets/colab-badge.svg\" alt=\"Open In Colab\"/></a>"
      ]
    },
    {
      "cell_type": "code",
      "execution_count": 1,
      "metadata": {
        "colab": {
          "base_uri": "https://localhost:8080/"
        },
        "id": "v6x0R-rXcDOg",
        "outputId": "2ae4bb86-4512-4ab6-e1c3-fabd9b691a23"
      },
      "outputs": [
        {
          "output_type": "stream",
          "name": "stdout",
          "text": [
            "Atividade 9- Curso Polkadot\n",
            "Contando letras\n",
            "digite uma frase:te amo\n",
            "digite uma letra que deseja contar:o\n",
            "a letra o aparece 1 vez na frase.\n"
          ]
        }
      ],
      "source": [
        "#Escreva um programa que peça uma frase ao usuário e conte quantas vezes uma letra específica aparece.\n",
        "print(\"Atividade 9- Curso Polkadot\")\n",
        "print(\"Contando letras\")\n",
        "frase= input(\"digite uma frase:\")\n",
        "letra=input(\"digite uma letra que deseja contar:\")\n",
        "quantidade = frase.lower().count(letra.lower())\n",
        "if quantidade ==1:\n",
        "  print(f\"a letra {letra} aparece {quantidade} vez na frase.\")\n",
        "else:\n",
        "    print(f\"a letra {letra} aparece {quantidade} vezes na frase.\")"
      ]
    }
  ]
}
